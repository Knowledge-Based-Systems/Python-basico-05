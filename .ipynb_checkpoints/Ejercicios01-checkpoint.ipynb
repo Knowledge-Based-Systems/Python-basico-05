{
 "cells": [
  {
   "cell_type": "markdown",
   "id": "9d12a733",
   "metadata": {},
   "source": [
    "## Reto"
   ]
  },
  {
   "cell_type": "code",
   "execution_count": null,
   "id": "2a62237a",
   "metadata": {},
   "outputs": [],
   "source": [
    "# Dada la información del archivo .json sobre Recursos Educativos Abiertos y las universidades a las que\n",
    "# pertenecen, el archivo está en la carpeta data, realizar el siguiente reto\n",
    "\n",
    "# 1. Leer y explorar el archivo\n",
    "# 2. Generar una estructura que tenga una lista de tuplas.\n",
    "# 2.1. Cada tupla tendrá 2 posiciones\n",
    "# 2.2. La posición 0 de la tupla estará compuesta por la latitud, longitud y nombre de universidad\n",
    "# 2.3. La posición 1 de la tupla estará compuesta por una cadena con el nombre de la universidad\n",
    "# 2. Generar un widgets de tipo Dropdown\n",
    "# 3. El widget debe permitir seleccionar una Universidad.\n",
    "# 3.1 Atención, el valor por defecto del widget a usar es: value=('-1.294246', '36.786794', 'African Virtual University')\n",
    "# 3.2 Agregar en la caractarística options del Dropdown la estructura generada\n",
    "# 4. Cuando se seleccione una universidad, se debe ejecutar las sentencias que usen ipyleaflet y pinte en un mapa\n",
    "#    la universidad.\n",
    "# 4.1 Al momento de poner el mouse sobre el Marker, debe presentarse la universidad\n",
    "# Debe considerar que existen valores de tipo None entre la latitud y longitud de los datos dados. Si se da el caso, \n",
    "# no debe presentar nada en el mapa"
   ]
  },
  {
   "cell_type": "code",
   "execution_count": null,
   "id": "6ca89db6",
   "metadata": {},
   "outputs": [],
   "source": [
    "# revisar el siguiente ejemplo\n",
    "\n",
    "datos = [{\"equipo\":\"Barcelona\", \"pais\":\"Ecuador\", \"disciplina\":\"Fútbol\", \"estadio\": True}, \n",
    "         {\"equipo\":\"Ineos\", \"pais\":\"Francia\", \"disciplina\":\"Ciclismo\", \"estadio\": False},  \n",
    "         {\"equipo\":\"River Plate\", \"pais\":\"Argentina\", \"disciplina\":\"Fútbol\", \"estadio\": True},\n",
    "        {\"equipo\":\"Ferrari\", \"pais\":\"Italia\", \"disciplina\":\"Automovilismo\", \"estadio\": False},]"
   ]
  },
  {
   "cell_type": "code",
   "execution_count": 13,
   "id": "6d60786d",
   "metadata": {},
   "outputs": [],
   "source": [
    "# diversas formas de obtener un lista de tuplas\n",
    "# Recuerde la tupla tiene elementos, desde la posición 0\n",
    "# Se usa paréntisis para generar una tupla\n",
    "# Ejemplo \n",
    "# t = (\"Luis\", \"Alvarado\")\n",
    "# Posición 0 de la tupla llamada t es \"Luis\"\n",
    "# Posición 1 de la tupla llamada t es \"Alvarado\"\n",
    "\n"
   ]
  },
  {
   "cell_type": "code",
   "execution_count": 15,
   "id": "4d37c02e",
   "metadata": {},
   "outputs": [
    {
     "name": "stdout",
     "output_type": "stream",
     "text": [
      "['Barcelona', 'Ineos', 'River Plate', 'Ferrari']\n"
     ]
    }
   ],
   "source": [
    "# Analice la salida de  la lista de tupla llamada lista_tuplas_1\n",
    "lista_tuplas_1 = [(d[\"equipo\"]) for d in datos]\n",
    "print(lista_tuplas_1)"
   ]
  },
  {
   "cell_type": "code",
   "execution_count": null,
   "id": "359159cb",
   "metadata": {},
   "outputs": [],
   "source": [
    "# Analice la salida de  la lista de tupla llamada lista_tuplas_2\n",
    "\n",
    "lista_tuplas_2 = [(d[\"equipo\"], d['disciplina']) for d in datos]\n",
    "print(lista_tuplas_2)"
   ]
  },
  {
   "cell_type": "code",
   "execution_count": 16,
   "id": "fe02a28c",
   "metadata": {},
   "outputs": [
    {
     "name": "stdout",
     "output_type": "stream",
     "text": [
      "[('Barcelona', ('Ecuador', True)), ('Ineos', ('Francia', False)), ('River Plate', ('Argentina', True)), ('Ferrari', ('Italia', False))]\n"
     ]
    }
   ],
   "source": [
    "# Analice la salida de  la lista de tupla llamada lista_tuplas_3\n",
    "\n",
    "lista_tuplas_3 = [((d[\"equipo\"]), (d['pais'], d['estadio'])) for d in datos]\n",
    "print(lista_tuplas_3)"
   ]
  },
  {
   "cell_type": "code",
   "execution_count": 18,
   "id": "dadb9bf3",
   "metadata": {},
   "outputs": [
    {
     "name": "stdout",
     "output_type": "stream",
     "text": [
      "('Barcelona', ('Ecuador', True))\n"
     ]
    }
   ],
   "source": [
    "# Analice la salida\n",
    "print(lista_tuplas_3[0])"
   ]
  },
  {
   "cell_type": "code",
   "execution_count": 17,
   "id": "f1e91664",
   "metadata": {},
   "outputs": [
    {
     "name": "stdout",
     "output_type": "stream",
     "text": [
      "Barcelona\n"
     ]
    }
   ],
   "source": [
    "# Analice la salida\n",
    "print(lista_tuplas_3[0][0])"
   ]
  },
  {
   "cell_type": "code",
   "execution_count": 19,
   "id": "2f782323",
   "metadata": {},
   "outputs": [
    {
     "name": "stdout",
     "output_type": "stream",
     "text": [
      "('Ecuador', True)\n"
     ]
    }
   ],
   "source": [
    "# Analice la salida\n",
    "print(lista_tuplas_3[0][1])"
   ]
  },
  {
   "cell_type": "code",
   "execution_count": 24,
   "id": "0194a43b",
   "metadata": {},
   "outputs": [
    {
     "name": "stdout",
     "output_type": "stream",
     "text": [
      "Salida None\n",
      "Salida None\n"
     ]
    }
   ],
   "source": [
    "# Analice la salida de la siguientes sentencias\n",
    "\n",
    "valor = None\n",
    "\n",
    "if valor is None:\n",
    "    print(\"Salida None\")\n",
    "    \n",
    "if valor is not None:\n",
    "    print(\"Salida sin None\")\n",
    "else:\n",
    "    print(\"Salida None\")"
   ]
  },
  {
   "cell_type": "markdown",
   "id": "a11ef1db",
   "metadata": {},
   "source": [
    "### Desarrolle el Reto"
   ]
  },
  {
   "cell_type": "code",
   "execution_count": null,
   "id": "0785b14b",
   "metadata": {},
   "outputs": [],
   "source": []
  }
 ],
 "metadata": {
  "kernelspec": {
   "display_name": "Python 3 (ipykernel)",
   "language": "python",
   "name": "python3"
  },
  "language_info": {
   "codemirror_mode": {
    "name": "ipython",
    "version": 3
   },
   "file_extension": ".py",
   "mimetype": "text/x-python",
   "name": "python",
   "nbconvert_exporter": "python",
   "pygments_lexer": "ipython3",
   "version": "3.9.6"
  }
 },
 "nbformat": 4,
 "nbformat_minor": 5
}
